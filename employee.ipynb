{
 "cells": [
  {
   "cell_type": "markdown",
   "id": "4b8093b6-f61d-4c29-8da9-650b0e5ebafe",
   "metadata": {},
   "source": [
    "# Introducción a Estadística Estadístico -  by M.Sc. Emerson D. Norabuena \n",
    "Semana 03"
   ]
  },
  {
   "cell_type": "markdown",
   "id": "5f37d17b-1c85-454c-a930-27fdd4bff70d",
   "metadata": {},
   "source": [
    "## Empleados en la industria TI\n",
    "\n",
    "Acerca del conjunto de datos\n",
    "\n",
    "# Contexto\n",
    "\n",
    "El conjunto de datos, denominado employee_data.csv, contiene datos de 400 empleados que trabajan en diversos puestos \n",
    "relacionados con TI. Los datos incluyen detalles sobre género, años de experiencia, puesto y el salario de cada empleado. \n",
    "\n",
    "# Objetivo de estudio:  \n",
    "-\tAnálisis de datos: análisis de tendencias salariales en función del puesto y la experiencia.\n",
    "-\tAprendizaje automático: modelos de entrenamiento para la predicción salarial\n",
    "-\tRecursos Humanos: comprensión de las estructuras de compensación en la Industria de TI\n",
    "\n",
    "Esto debe de reflejar las distribuciones y variaciones realistas dentro de la industria de TI, en particular cómo los salarios \n",
    "tienden a aumentar con la experiencia y el puesto de trabajo específico. \n",
    "\n",
    "Los atributos de la dataset son:\n",
    "1. ID: un identificador único para cada empleado (de 1 a 400).\n",
    "1. Género: el género del empleado. Los valores son \"M\" (masculino) o \"F\" (femenino).\n",
    "1. Experiencia (años): la cantidad de años de experiencia profesional que tiene el empleado, que van desde 0 a 20 años.\n",
    "1. Puesto: el puesto de trabajo del empleado. Los puestos incluidos en el conjunto de datos son:\n",
    "- Gerente de TI\n",
    "- Ingeniero de software\n",
    "- Administrador de red\n",
    "- Administrador de sistemas\n",
    "- Administrador de base de datos (DBA)\n",
    "- Desarrollador web\n",
    "- Especialista en soporte de TI\n",
    "- Analista de sistemas\n",
    "- Analista de seguridad de TI\n",
    "- Ingeniero de DevOps\n",
    "- Arquitecto de soluciones en la nube\n",
    "1. Salario: el salario anual del empleado en USD.\n",
    "\n",
    "\n",
    "Conten:\r\n",
    "1. Load and check data\n",
    "2. Data visualization\n",
    "3. Feature Engineering\n",
    "4. Modeling Train - Test Split\n",
    "5. Standardization zation\n"
   ]
  },
  {
   "cell_type": "code",
   "execution_count": null,
   "id": "a042d640-6a6d-49d9-b3e8-229a95b7cc99",
   "metadata": {},
   "outputs": [],
   "source": [
    "from keras.models import Sequential\n",
    "from keras.layers import Dense\n",
    "import matplotlib.pyplot as plt\n",
    "import pandas as pd\n",
    "from sklearn import preprocessing\n",
    "from sklearn.preprocessing import MinMaxScaler\n",
    "\n",
    "import numpy as np\n",
    "%matplotlib inline\n",
    "import seaborn as sns\n",
    "\n",
    "from sklearn.model_selection import train_test_split\n",
    "from sklearn.preprocessing import StandardScaler, LabelEncoder,MinMaxScaler"
   ]
  },
  {
   "cell_type": "markdown",
   "id": "4e1db448-c2e6-422b-a34f-dcb348c3e49e",
   "metadata": {},
   "source": [
    "1. Load and Check data"
   ]
  },
  {
   "cell_type": "code",
   "execution_count": null,
   "id": "172cb825-3525-49d7-b0ce-fbc6485329cd",
   "metadata": {},
   "outputs": [],
   "source": [
    "data=pd.read_csv(\"C:/Users/Nor4buena/Documents/IEstad/employee_data.csv\", sep=',')"
   ]
  },
  {
   "cell_type": "code",
   "execution_count": null,
   "id": "65d699c5-ac8e-4dff-9beb-443097a8d1ad",
   "metadata": {},
   "outputs": [],
   "source": [
    "data"
   ]
  },
  {
   "cell_type": "code",
   "execution_count": null,
   "id": "0e7be471-f7c2-44cd-b134-1a51d9f697eb",
   "metadata": {},
   "outputs": [],
   "source": [
    "print(\"\\nBasic statistics of the dataset:\")\n",
    "print(data.describe(include='all'))"
   ]
  },
  {
   "cell_type": "code",
   "execution_count": null,
   "id": "265745c4-cdc5-42d6-b086-f08e0cf8f6fe",
   "metadata": {},
   "outputs": [],
   "source": [
    "position_counts = data['Position'].value_counts()\n",
    "print(\"\\nNumber of employees by position:\")\n",
    "print(position_counts)"
   ]
  },
  {
   "cell_type": "code",
   "execution_count": null,
   "id": "5bf498d1-2252-46ab-a3ce-d4600389f36a",
   "metadata": {},
   "outputs": [],
   "source": [
    "gender_counts = data['Gender'].value_counts()\n",
    "print(\"\\nGender distribution:\")\n",
    "print(gender_counts)"
   ]
  },
  {
   "cell_type": "code",
   "execution_count": null,
   "id": "7a93852d-ae72-4718-983e-d62e9b67f898",
   "metadata": {},
   "outputs": [],
   "source": [
    "from sklearn.preprocessing import LabelEncoder\n",
    "label_encoder = LabelEncoder()\n",
    "data['Position'] = label_encoder.fit_transform(data['Position'])\n",
    "data['Gender'] = label_encoder.fit_transform(data['Gender'])"
   ]
  },
  {
   "cell_type": "code",
   "execution_count": null,
   "id": "017da8bb-1dad-4dab-a778-a7240eedb066",
   "metadata": {},
   "outputs": [],
   "source": [
    "data"
   ]
  },
  {
   "cell_type": "code",
   "execution_count": null,
   "id": "200acf37-1ac2-4461-90ac-b4d5267c5f8a",
   "metadata": {},
   "outputs": [],
   "source": [
    "x = data.iloc[:,2:5]\n",
    "x"
   ]
  },
  {
   "cell_type": "code",
   "execution_count": null,
   "id": "3e4dfe84-630e-43e5-850c-6a1465df21ae",
   "metadata": {},
   "outputs": [],
   "source": [
    "y = data.iloc[:,-1]\n",
    "y"
   ]
  },
  {
   "cell_type": "code",
   "execution_count": null,
   "id": "ec64594f-6405-47e8-812a-7f1e32bcf276",
   "metadata": {},
   "outputs": [],
   "source": [
    "data.describe()"
   ]
  },
  {
   "cell_type": "code",
   "execution_count": null,
   "id": "ffd71689-2279-4ee4-a59b-a395993d1614",
   "metadata": {},
   "outputs": [],
   "source": [
    "from sklearn.model_selection import train_test_split\n",
    "x_train, x_test, y_train, y_test = train_test_split(x, y, test_size=0.2, random_state=42)"
   ]
  },
  {
   "cell_type": "code",
   "execution_count": null,
   "id": "60977817-fbab-40b3-bb28-ddbf4923c142",
   "metadata": {},
   "outputs": [],
   "source": [
    "len(x_train)"
   ]
  },
  {
   "cell_type": "code",
   "execution_count": null,
   "id": "b226ac13-cb99-4483-a73b-371aa71bcc90",
   "metadata": {},
   "outputs": [],
   "source": [
    "len(x_test)"
   ]
  },
  {
   "cell_type": "code",
   "execution_count": null,
   "id": "3454f28d-cfbc-4ca2-987c-d2e391316377",
   "metadata": {},
   "outputs": [],
   "source": [
    "data.nunique()"
   ]
  },
  {
   "cell_type": "code",
   "execution_count": null,
   "id": "fbc0238a-60e2-4bc6-9b45-1fd3358683f9",
   "metadata": {},
   "outputs": [],
   "source": [
    "data.isnull().sum()"
   ]
  },
  {
   "cell_type": "code",
   "execution_count": null,
   "id": "54bc3014-945a-43db-b6af-4752823313f3",
   "metadata": {},
   "outputs": [],
   "source": [
    "plt.figure(figsize=(10, 6))\n",
    "sns.regplot(data=data, x='Experience (Years)', y='Salary', scatter_kws={'alpha':0.5}, line_kws={'color':'red'})\n",
    "\n",
    "plt.xlabel('Experience (Years)')\n",
    "plt.ylabel('Salary')\n",
    "plt.show()"
   ]
  },
  {
   "cell_type": "code",
   "execution_count": null,
   "id": "104b6174-30f2-4f65-8f26-fe09caff7536",
   "metadata": {},
   "outputs": [],
   "source": [
    "plt.figure(figsize=(10, 6))\n",
    "sns.scatterplot(data=data, x='Experience (Years)', y='Salary', \n",
    "                hue='Gender', \n",
    "                palette='Set1', \n",
    "                alpha=0.9)\n",
    "\n",
    "plt.xlabel('Experience (Years)')\n",
    "plt.ylabel('Salary')\n",
    "plt.legend(title='Gender')\n",
    "plt.show()"
   ]
  },
  {
   "cell_type": "code",
   "execution_count": null,
   "id": "f5f5e1ac-9fed-499e-9e23-e87687996b80",
   "metadata": {},
   "outputs": [],
   "source": [
    "plt.figure(figsize=(12, 8))\n",
    "sns.lmplot(data=data, x='Experience (Years)', y='Salary', \n",
    "           hue='Gender', \n",
    "           palette='Set1', \n",
    "           aspect=1.5, \n",
    "           height=6)\n",
    "\n",
    "plt.xlabel('Experience (Years)')\n",
    "plt.ylabel('Salary')\n",
    "plt.show()"
   ]
  },
  {
   "cell_type": "code",
   "execution_count": null,
   "id": "f5c15530-94c1-45a7-8d8c-c1bf450575d4",
   "metadata": {},
   "outputs": [],
   "source": [
    "plt.figure(figsize=(12, 6))\n",
    "sns.boxplot(data=data, x='Experience (Years)', y='Salary', hue='Gender', palette='Set1')\n",
    "\n",
    "plt.xlabel('Experience (Years)')\n",
    "plt.ylabel('Salary')\n",
    "plt.xticks(rotation=90)\n",
    "plt.show()"
   ]
  },
  {
   "cell_type": "code",
   "execution_count": null,
   "id": "1a0563b2-af43-48e0-8f0c-7a559d6b8239",
   "metadata": {},
   "outputs": [],
   "source": [
    "data.describe().T.plot(kind='bar')"
   ]
  },
  {
   "cell_type": "code",
   "execution_count": null,
   "id": "b1cea7ab-67f1-4171-b279-900ba2e25ad1",
   "metadata": {},
   "outputs": [],
   "source": []
  }
 ],
 "metadata": {
  "kernelspec": {
   "display_name": "Python 3 (ipykernel)",
   "language": "python",
   "name": "python3"
  },
  "language_info": {
   "codemirror_mode": {
    "name": "ipython",
    "version": 3
   },
   "file_extension": ".py",
   "mimetype": "text/x-python",
   "name": "python",
   "nbconvert_exporter": "python",
   "pygments_lexer": "ipython3",
   "version": "3.11.7"
  }
 },
 "nbformat": 4,
 "nbformat_minor": 5
}
