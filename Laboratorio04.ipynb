{
 "cells": [
  {
   "cell_type": "markdown",
   "id": "3af7b11f-9887-4355-bdc1-79a7c6f24a35",
   "metadata": {},
   "source": [
    "# Introducción a la Estadística by M.Sc. Emerson D. Norabuena Figueroa\n",
    "- Insdustria Car - Repositorio"
   ]
  },
  {
   "cell_type": "markdown",
   "id": "6799f749-71dd-4983-98b9-a458bf716f4b",
   "metadata": {},
   "source": [
    "## 1. Acerca del conjunto de datos\n",
    "\n",
    "Contexto\n",
    "\n",
    "El conjunto de datos mtcars es empleada a fin de informar de los atributos que fijan posibles métricas para el analista de datos - junior\n",
    "\n",
    "Objetivo: Conocer los patrones a partir de la información recopilada para aprender y simular técnicas de análisis de datos sobre un entorno de desarrollo. \n",
    "Los atributos de esta base de datos son:\n",
    "\n",
    "1. model: Modelo\n",
    "2. mpg: Millas por galón\n",
    "3. cyl: Número de cilindros\n",
    "4. disp: Cilindrada en pulgadas cúbicas\n",
    "5. hp: Caballos de fuerza\n",
    "6. drat: Relación del eje de transmisión\n",
    "7. wt: Peso\n",
    "8. qsec: Tiempo de 1/4 de milla, medida de aceleración\n",
    "9. vs: Forma del motor V o recto\n",
    "10. am: Transmisión: 0: automático 1: manual\n",
    "11. gear: Número de engranajes\n",
    "12. carb: Número de carburadores\n",
    "\n",
    "Contenido\n",
    "\n",
    "1. Load and check data\n",
    "2. Data visualization\n",
    "3. Feature Engineering\n",
    "4. Modeling Train - Test Split\n",
    "5. Standarization\n",
    "\n",
    "\n",
    "\n"
   ]
  },
  {
   "cell_type": "code",
   "execution_count": null,
   "id": "616b1714-d6df-4e95-9889-0a161aa13e86",
   "metadata": {},
   "outputs": [],
   "source": [
    "import numpy as np\n",
    "import pandas as pd\n",
    "import math\n",
    "import matplotlib.pyplot as plt\n",
    "%matplotlib inline\n",
    "\n",
    "from statistics import mode\n",
    "import seaborn as sns\n",
    "from sklearn.preprocessing import LabelEncoder"
   ]
  },
  {
   "cell_type": "markdown",
   "id": "ca5b5b52-55e1-4b02-90a1-cf596cb788bb",
   "metadata": {},
   "source": [
    "1. Load and check data"
   ]
  },
  {
   "cell_type": "code",
   "execution_count": null,
   "id": "9b2ae625-2693-472b-8eff-c29d4fbe4d3c",
   "metadata": {},
   "outputs": [],
   "source": [
    "datos_iniciales = pd.read_csv('https://raw.githubusercontent.com/Emerson2021/2023/main/mtcars.csv', sep=',')"
   ]
  },
  {
   "cell_type": "code",
   "execution_count": null,
   "id": "f946b715-50e4-4434-9c5a-562e68cf66d2",
   "metadata": {},
   "outputs": [],
   "source": [
    "datos_iniciales.head()"
   ]
  },
  {
   "cell_type": "code",
   "execution_count": null,
   "id": "5843fde0-7c3c-474a-84e8-7882a7948922",
   "metadata": {},
   "outputs": [],
   "source": [
    "datos_iniciales.shape"
   ]
  },
  {
   "cell_type": "code",
   "execution_count": null,
   "id": "4e2a9c85-dd35-4c2b-96a5-bf8bb8f1dbaa",
   "metadata": {},
   "outputs": [],
   "source": [
    "datos_iniciales.info"
   ]
  },
  {
   "cell_type": "code",
   "execution_count": null,
   "id": "0bb6c8c3-ec54-41a2-9859-fbaf5b7b0e80",
   "metadata": {},
   "outputs": [],
   "source": [
    "print(sum(datos_iniciales.duplicated()))"
   ]
  },
  {
   "cell_type": "code",
   "execution_count": null,
   "id": "a6266748-e765-47a5-a11d-80a50850e8c9",
   "metadata": {},
   "outputs": [],
   "source": [
    "print(datos_iniciales.info())"
   ]
  },
  {
   "cell_type": "code",
   "execution_count": null,
   "id": "427ac714-db7e-4a20-9fb6-f6cabee809cf",
   "metadata": {},
   "outputs": [],
   "source": [
    "na_counts = pd.DataFrame(datos_iniciales.isna().sum(),columns=[\"NA Counts\"]).reset_index()\n",
    "na_counts = na_counts.rename(columns={'index': 'Column Name'})\n",
    "print(na_counts)"
   ]
  },
  {
   "cell_type": "code",
   "execution_count": null,
   "id": "6b4ec7c9-9a0a-4dc3-88f5-fd35bd56778a",
   "metadata": {},
   "outputs": [],
   "source": [
    "datos_iniciales.index = pd.RangeIndex(start=1,stop=33, step=1)\n",
    "datos = datos_iniciales[\"mpg\"]\n",
    "minimo = min(datos)\n",
    "maximo = max(datos)\n",
    "rango = round(maximo - minimo,3)\n",
    "criterio_sturges = 1+3.32*math.log10(len(datos))\n",
    "\n",
    "print(f'El valor mínimo es de {minimo}, y el máximo de {maximo} mpg.')\n",
    "print(f'Por lo que el rango es de {rango} mpg')\n",
    "print(f'El número sugerido de columnas es de {round(criterio_sturges,2)}')"
   ]
  },
  {
   "cell_type": "code",
   "execution_count": null,
   "id": "0ce0d581-45a3-4cc4-90e6-1bf6faf0adbe",
   "metadata": {},
   "outputs": [],
   "source": [
    "numero_columnas = 6\n",
    "minimo = math.floor(min(datos))\n",
    "maximo = math.ceil(max(datos))\n",
    "rango = round(maximo - minimo,3)\n",
    "ancho_intervalo = rango/numero_columnas\n",
    "\n",
    "j = 1\n",
    "inicio_interval = []\n",
    "final_interval = []\n",
    "\n",
    "while j <= numero_columnas:\n",
    "    inicio_interval.append(minimo + ancho_intervalo * (j-1))\n",
    "    final_interval.append(minimo + ancho_intervalo * j)\n",
    "    j = j + 1\n",
    "    \n",
    "tab_frecu = pd.DataFrame({\"Inicio\":inicio_interval,\"Final\":final_interval}).round(1)\n",
    "tab_frecu['Inicio-Final'] = \"[\"+tab_frecu[\"Inicio\"].round(1).astype(str) + \" - \" + tab_frecu[\"Final\"].round(1).astype(str)+\")\" \n",
    "tab_frecu\n",
    "\n",
    "limite_bajo = tab_frecu[\"Inicio\"]\n",
    "limite_alto = tab_frecu[\"Final\"]\n",
    "valores = datos.copy()\n",
    "\n",
    "frecuencias3 = []\n",
    "fila = 0\n",
    "while fila < len(limite_bajo):\n",
    "    if fila == (len(limite_bajo)-1):\n",
    "        x = (valores >= limite_bajo[fila]) & (valores <= limite_alto[fila])\n",
    "        frecuencias3.append(len(valores[x]))\n",
    "    else:\n",
    "        x = (valores >= limite_bajo[fila]) & (valores < limite_alto[fila])\n",
    "        frecuencias3.append(len(valores[x]))\n",
    "    fila = fila + 1\n",
    "\n",
    "tab_frecu[\"Frecuencia\"] = frecuencias3\n",
    "tab_frecu[\"Frecuencia Relativa(%)\"] = ((tab_frecu[\"Frecuencia\"]/tab_frecu[\"Frecuencia\"].sum())*100).round(3)\n",
    "\n",
    "fre_rel_acu3 = [] \n",
    "for p in range(1,tab_frecu[\"Inicio\"].shape[0]+1):\n",
    "    fre_rel_acu3.append(tab_frecu[\"Frecuencia Relativa(%)\"].iloc[0:p].sum().round(2))\n",
    "\n",
    "tab_frecu[\"Frecuencia Relativa Acumulada(%)\"] = fre_rel_acu3\n",
    "pd.options.display.float_format = '{:.1f}'.format\n",
    "display(tab_frecu)"
   ]
  },
  {
   "cell_type": "markdown",
   "id": "e5df0efb-8e17-4777-a448-0d09551e86bb",
   "metadata": {},
   "source": [
    "2. Data visualization"
   ]
  },
  {
   "cell_type": "code",
   "execution_count": null,
   "id": "1e6d401c-4045-4f5d-91ec-ffa112323431",
   "metadata": {},
   "outputs": [],
   "source": [
    "plt.figure(figsize=(12,6))\n",
    "bplot = datos_iniciales.boxplot(patch_artist=True)\n",
    "plt.xticks(rotation=90)       \n",
    "plt.show()"
   ]
  },
  {
   "cell_type": "code",
   "execution_count": null,
   "id": "3ae8838d-be54-41cd-83fe-02f7e67ec48b",
   "metadata": {},
   "outputs": [],
   "source": [
    "datos_iniciales1 = datos_iniciales.sort_values(\"mpg\").reset_index(drop=True) \n",
    "plt.rcParams.update({'font.size':7})\n",
    "fig1, ax = plt.subplots(facecolor='white',figsize=(6,6)) \n",
    "fig1 = plt.barh(datos_iniciales1[\"model\"],datos_iniciales1[\"mpg\"],edgecolor='blue',color =\"red\")\n",
    "ax.grid(axis='x',color = \"white\", linestyle = \"--\")\n",
    "ax.set_xticks(np.arange(0, datos_iniciales1[\"mpg\"].max(), 2.5))\n",
    "plt.xlabel(\"Millas por galón\")\n",
    "plt.ylabel(\"Marca y modelo\")\n",
    "ax.set_xlim(right=34.2)\n",
    "ax.set_ylim(bottom=-1,top=32)\n",
    "plt.show()"
   ]
  },
  {
   "cell_type": "code",
   "execution_count": null,
   "id": "51615009-ae13-4493-b13e-af863bf26402",
   "metadata": {},
   "outputs": [],
   "source": [
    "def graficador(datos,col,cal,col_2,cal_2,vlines):\n",
    "    fig2, ax = plt.subplots(facecolor='white',figsize=(9,4)) \n",
    "    fig2 = plt.scatter(range(1,33),datos)\n",
    "    if cal: \n",
    "        plt.plot(range(1,33),np.repeat(np.mean(datos),32),\n",
    "                 label = f\"media = {np.mean(datos).round(2)}\",color = col ,linewidth = 2)\n",
    "    if cal_2: \n",
    "        plt.plot(range(1,33),np.repeat(np.median(datos),32),\n",
    "                 label = f\"mediana = {np.median(datos).round(2)}\",color = col_2 ,linewidth = 2)\n",
    "    if vlines:\n",
    "        ax.vlines(list(datos.index),datos,np.repeat(np.mean(datos),32),\n",
    "              color = \"green\", linestyle = \"dashed\", linewidth=1.5,alpha = 0.75)\n",
    "        \n",
    "    ax.set_xticks(np.arange(1,33, 1))\n",
    "    \n",
    "    plt.ylabel(\"Millas por galón\")\n",
    "    plt.xlabel(\"Autos\")\n",
    "    plt.legend(loc='upper left')\n",
    "    ax.set_xlim(left=0,right=32.5)\n",
    "    plt.show()\n",
    "    \n",
    "graficador(datos_iniciales[\"mpg\"],\"red\",True,\"green\",False,False)"
   ]
  },
  {
   "cell_type": "code",
   "execution_count": null,
   "id": "33e84b0a-d345-4ce9-ace8-0f747fe0ca91",
   "metadata": {},
   "outputs": [],
   "source": [
    "graficador(datos_iniciales[\"mpg\"],\"red\",True,\"green\",False,True)\n"
   ]
  },
  {
   "cell_type": "code",
   "execution_count": null,
   "id": "a7106469-ff5b-45e9-8300-fb6fcae58067",
   "metadata": {},
   "outputs": [],
   "source": [
    "datos = datos_iniciales[\"mpg\"].sort_values()\n",
    "fig2, ax = plt.subplots(facecolor='white',figsize=(9,4)) \n",
    "fig2 = plt.scatter(range(1,33),datos)\n",
    "ax.vlines(16,9,np.median(datos_iniciales[\"mpg\"]),\n",
    "              color = \"green\", linestyle = \"dashed\", linewidth=1.5,alpha = 0.75)\n",
    "ax.set_xticks(np.arange(1,33, 1))\n",
    "plt.ylabel(\"Millas por galón\")\n",
    "plt.xlabel(\"Autos\")\n",
    "ax.set_xlim(left=0,right=32.5)\n",
    "plt.ylim(9,35)\n",
    "plt.show()"
   ]
  },
  {
   "cell_type": "code",
   "execution_count": null,
   "id": "8367f78e-f591-442d-a9dd-67ec260e2156",
   "metadata": {},
   "outputs": [],
   "source": [
    "fig2, ax = plt.subplots(facecolor='white',figsize=(9,4)) \n",
    "fig2 = plt.scatter(range(1,33),datos)\n",
    "ax.vlines(16,9,np.median(datos),\n",
    "              color = \"green\", linestyle = \"dashed\", linewidth=1.5,alpha = 0.75)\n",
    "ax.set_xticks(np.arange(1,33, 1))\n",
    "ax.vlines(17,9,np.median(datos),\n",
    "              color = \"green\", linestyle = \"dashed\", linewidth=1.5,alpha = 0.75)\n",
    "ax.set_xticks(np.arange(1,33, 1))\n",
    "\n",
    "plt.ylabel(\"Millas por galón\")\n",
    "plt.xlabel(\"Autos\")\n",
    "plt.ylim(9,35)\n",
    "ax.set_xlim(left=0,right=32.5)\n",
    "plt.show()"
   ]
  },
  {
   "cell_type": "code",
   "execution_count": null,
   "id": "1cb17b27-d273-4a8d-8bbf-cdabc1f76368",
   "metadata": {},
   "outputs": [],
   "source": [
    "print(\"Valor de la posición 16:\",datos.loc[16], \"\\nValor de la posición 17:\",datos.loc[17])\n"
   ]
  },
  {
   "cell_type": "code",
   "execution_count": null,
   "id": "cb750b0f-5a79-4c89-80c9-0f4dcb304d25",
   "metadata": {},
   "outputs": [],
   "source": [
    "print(\"La mediana de los datos es:\",np.median(datos))"
   ]
  },
  {
   "cell_type": "code",
   "execution_count": null,
   "id": "4fdddef5-91d9-4b63-a68f-40cf8f1d2d54",
   "metadata": {},
   "outputs": [],
   "source": [
    "graficador(datos,\"red\",True,\"green\",True,False)"
   ]
  },
  {
   "cell_type": "code",
   "execution_count": null,
   "id": "9fd66016-13f5-4045-8fd6-2199a5e7e072",
   "metadata": {},
   "outputs": [],
   "source": [
    "ejeX = (tab_frecu[\"Inicio\"] + tab_frecu[\"Final\"])/2\n",
    "ejeX2 = tab_frecu[\"Final\"]\n",
    "ejeY1 = tab_frecu[\"Frecuencia Relativa(%)\"]\n",
    "etiquetas1 = list(tab_frecu['Inicio-Final'])\n",
    "titulo = \"Distribución del consumo de combustible\"\n",
    "tituloX = \"Millas por galon (mpg)\"\n",
    "tituloY = \"Frecuencia relativa (%)\"\n",
    "intervalo = ancho_intervalo\n",
    "\n",
    "fig_doble, axis = plt.subplots(1, 2,figsize=(14,5)) \n",
    "fig_doble.tight_layout(w_pad=2)\n",
    "\n",
    "\n",
    "axis[0].bar(ejeX,ejeY1,width = intervalo,edgecolor='black',color='deepskyblue',alpha=0.80)\n",
    "axis[0].vlines(np.mean(datos),0,35,label = f\"media = {np.mean(datos).round(1)}\",\n",
    "              color = \"red\", linestyle = \"dashed\", linewidth=2 ,alpha = 1)\n",
    "axis[0].vlines(np.median(datos),0,35,label = f\"mediana = {np.median(datos).round(1)}\",\n",
    "              color = \"lime\", linestyle = (0,(1,1)), linewidth=3 ,alpha = 1)\n",
    "axis[0].set_ylim(bottom=0,top=35)\n",
    "axis[0].set_xlim(left=9.5,right=34.5)\n",
    "axis[0].set_title(titulo)\n",
    "axis[0].set_xlabel(tituloX)\n",
    "axis[0].set_ylabel(tituloY)\n",
    "axis[0].set_xticks(ejeX,etiquetas1)\n",
    "axis[0].legend(bbox_to_anchor=(.65, 1), loc='upper left')\n",
    "\n",
    "\n",
    "axis[1].bar(ejeX,ejeY1,width = intervalo,edgecolor='black',color='deepskyblue',alpha=0.80)\n",
    "axis[1].vlines(np.mean(datos),0,35,label = f\"media = {np.mean(datos).round(1)}\",\n",
    "              color = \"red\", linestyle = \"dashed\", linewidth=2 ,alpha = 1)\n",
    "axis[1].vlines(np.median(datos),0,35,label = f\"mediana = {np.median(datos).round(1)}\",\n",
    "              color = \"lime\", linestyle = (0,(1,1)), linewidth=3 ,alpha = 1)\n",
    "axis[1].set_ylim(bottom=0,top=35)\n",
    "axis[1].set_xlim(left=9.5,right=34.5)\n",
    "axis[1].set_title(titulo)\n",
    "axis[1].set_xlabel(tituloX)\n",
    "axis[1].set_ylabel(tituloY)\n",
    "axis[1].set_xticks(ejeX2)\n",
    "axis[1].legend(bbox_to_anchor=(.65, 1), loc='upper left')\n",
    "plt.show()"
   ]
  },
  {
   "cell_type": "code",
   "execution_count": null,
   "id": "5fb96411-4d9c-4564-9d8d-d0eaa4f5aa00",
   "metadata": {},
   "outputs": [],
   "source": [
    "ejeX = (tab_frecu[\"Inicio\"]+tab_frecu[\"Final\"])/2\n",
    "ejeX2 = tab_frecu[\"Final\"]\n",
    "ejeY2 = tab_frecu[\"Frecuencia Relativa Acumulada(%)\"]\n",
    "\n",
    "tituloX = \"Millas por galon (mpg)\"\n",
    "tituloY = \"Frecuencia relativa acumulada (%)\"\n",
    "intervalo = ancho_intervalo\n",
    "etiquetas2 = list(range(0,125,25))\n",
    "\n",
    "fig_doble, axis = plt.subplots(1, 2,figsize=(14,5)) \n",
    "fig_doble.tight_layout(w_pad=2)\n",
    "\n",
    "# Grafico izquierda\n",
    "axis[0].bar(ejeX,ejeY2,width = intervalo,edgecolor='black',color='deepskyblue',alpha=0.80)\n",
    "axis[0].vlines(np.mean(datos),0,105,label = f\"media = {np.mean(datos).round(1)}\",\n",
    "              color = \"red\", linestyle = \"dashed\", linewidth=2 ,alpha = 1)\n",
    "axis[0].vlines(np.median(datos),0,105,label = f\"mediana = {np.median(datos).round(1)}\",\n",
    "              color = \"lime\", linestyle = (0,(1,1)), linewidth=3 ,alpha = 1)\n",
    "\n",
    "\n",
    "axis[0].set_ylim(bottom=0,top=105)\n",
    "axis[0].set_xlim(left=9.5,right=34.5)\n",
    "axis[0].set_title(F'{titulo} (histograma)')\n",
    "axis[0].set_xlabel(tituloX)\n",
    "axis[0].set_ylabel(tituloY)\n",
    "axis[0].set_xticks(ejeX2)\n",
    "axis[0].legend(bbox_to_anchor=(0.3, 1), loc='upper right')\n",
    "\n",
    "\n",
    "punto = axis[1].plot(ejeX2,ejeY2,color = \"black\",linewidth = 1.5)\n",
    "axis[1].plot(ejeX2,ejeY2,'o', markersize=8,color = \"darkorange\")\n",
    "\n",
    "for x, y in zip(ejeX2, ejeY2):\n",
    "    axis[1].text(x+.35,y-3,'{:.1f}%'.format(y))\n",
    "\n",
    "axis[1].vlines(np.mean(datos),0,105,label = f\"media = {np.mean(datos).round(1)}\",\n",
    "              color = \"red\", linestyle = \"dashed\", linewidth=2 ,alpha = 1)\n",
    "axis[1].vlines(np.median(datos),0,50,label = f\"mediana = {np.median(datos).round(1)}\",\n",
    "              color = \"lime\", linestyle = (0,(1,1)), linewidth=3 ,alpha = 1)\n",
    "axis[1].hlines(50,0,np.median(datos),color = \"lime\", linestyle = (0,(1,1)), linewidth=3 ,alpha = 1)\n",
    "\n",
    "axis[1].set_ylim(bottom=0,top=105)\n",
    "axis[1].set_xlim(left=13.5,right=36.5)\n",
    "axis[1].set_title(F'{titulo} (gráfico de línea)')\n",
    "axis[1].set_xlabel(tituloX)\n",
    "axis[1].set_ylabel(tituloY)\n",
    "axis[1].set_xticks(ejeX2)\n",
    "axis[1].set_yticks(etiquetas2)\n",
    "axis[1].legend(bbox_to_anchor=(1, 0), loc='lower right')\n",
    "plt.show()"
   ]
  }
 ],
 "metadata": {
  "kernelspec": {
   "display_name": "Python 3 (ipykernel)",
   "language": "python",
   "name": "python3"
  },
  "language_info": {
   "codemirror_mode": {
    "name": "ipython",
    "version": 3
   },
   "file_extension": ".py",
   "mimetype": "text/x-python",
   "name": "python",
   "nbconvert_exporter": "python",
   "pygments_lexer": "ipython3",
   "version": "3.11.7"
  }
 },
 "nbformat": 4,
 "nbformat_minor": 5
}
